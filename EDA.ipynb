{
 "cells": [
  {
   "cell_type": "code",
   "execution_count": 683,
   "metadata": {},
   "outputs": [],
   "source": [
    "import pandas as pd\n",
    "import numpy as np\n",
    "import matplotlib as mpl\n",
    "import matplotlib.pyplot as plt\n",
    "from matplotlib import font_manager, rc\n",
    "import seaborn as sns"
   ]
  },
  {
   "cell_type": "code",
   "execution_count": 684,
   "metadata": {},
   "outputs": [],
   "source": [
    "dataECS=pd.read_csv('ECS.csv')"
   ]
  },
  {
   "cell_type": "code",
   "execution_count": 685,
   "metadata": {},
   "outputs": [],
   "source": [
    "dataECS.set_index('Indicator Code',inplace=True)"
   ]
  },
  {
   "cell_type": "code",
   "execution_count": 686,
   "metadata": {},
   "outputs": [],
   "source": [
    "dataCountries=pd.read_csv('ECSCountries.csv')"
   ]
  },
  {
   "cell_type": "code",
   "execution_count": 687,
   "metadata": {},
   "outputs": [],
   "source": [
    "dataCountries.set_index('Indicator Code',inplace=True)\n",
    "dataCountries = dataCountries.drop('Unnamed: 0',axis=1)"
   ]
  },
  {
   "cell_type": "code",
   "execution_count": null,
   "metadata": {},
   "outputs": [],
   "source": []
  },
  {
   "cell_type": "code",
   "execution_count": 688,
   "metadata": {},
   "outputs": [],
   "source": [
    "dataEurope = dataCountries[dataCountries[\"Country Name\"].isin(['Albania','Andorra', 'Austria',\n",
    "       'Belarus', 'Belgium', 'Bosnia and Herzegovina', 'Bulgaria',\n",
    "       'Channel Islands', 'Croatia', 'Cyprus', 'Czech Republic',\n",
    "       'Denmark', 'Estonia', 'Finland', 'France', 'Georgia', 'Germany',\n",
    "       'Greece', 'Greenland', 'Hungary', 'Iceland', 'Ireland',\n",
    "       'Isle of Man', 'Italy',\n",
    "       'Latvia', 'Liechtenstein', 'Lithuania', 'Luxembourg',\n",
    "       'Macedonia, FYR', 'Moldova', 'Monaco', 'Montenegro', 'Netherlands',\n",
    "       'Norway', 'Poland', 'Portugal', 'Romania', 'Russian Federation',\n",
    "       'San Marino', 'Serbia', 'Slovak Republic', 'Slovenia', 'Spain',\n",
    "       'Sweden', 'Switzerland',\n",
    "       'Ukraine', 'United Kingdom'])]"
   ]
  },
  {
   "cell_type": "code",
   "execution_count": 689,
   "metadata": {},
   "outputs": [
    {
     "data": {
      "text/html": [
       "<div>\n",
       "<style scoped>\n",
       "    .dataframe tbody tr th:only-of-type {\n",
       "        vertical-align: middle;\n",
       "    }\n",
       "\n",
       "    .dataframe tbody tr th {\n",
       "        vertical-align: top;\n",
       "    }\n",
       "\n",
       "    .dataframe thead th {\n",
       "        text-align: right;\n",
       "    }\n",
       "</style>\n",
       "<table border=\"1\" class=\"dataframe\">\n",
       "  <thead>\n",
       "    <tr style=\"text-align: right;\">\n",
       "      <th></th>\n",
       "      <th>Country Name</th>\n",
       "      <th>Country Code</th>\n",
       "      <th>Indicator Name</th>\n",
       "      <th>2006</th>\n",
       "      <th>2007</th>\n",
       "      <th>2008</th>\n",
       "      <th>2009</th>\n",
       "      <th>2010</th>\n",
       "      <th>2011</th>\n",
       "      <th>2012</th>\n",
       "      <th>2013</th>\n",
       "      <th>2014</th>\n",
       "    </tr>\n",
       "    <tr>\n",
       "      <th>Indicator Code</th>\n",
       "      <th></th>\n",
       "      <th></th>\n",
       "      <th></th>\n",
       "      <th></th>\n",
       "      <th></th>\n",
       "      <th></th>\n",
       "      <th></th>\n",
       "      <th></th>\n",
       "      <th></th>\n",
       "      <th></th>\n",
       "      <th></th>\n",
       "      <th></th>\n",
       "    </tr>\n",
       "  </thead>\n",
       "  <tbody>\n",
       "    <tr>\n",
       "      <th>UIS.NERA.2</th>\n",
       "      <td>Albania</td>\n",
       "      <td>ALB</td>\n",
       "      <td>Adjusted net enrolment rate, lower secondary, ...</td>\n",
       "      <td>NaN</td>\n",
       "      <td>NaN</td>\n",
       "      <td>NaN</td>\n",
       "      <td>NaN</td>\n",
       "      <td>NaN</td>\n",
       "      <td>NaN</td>\n",
       "      <td>NaN</td>\n",
       "      <td>87.666588</td>\n",
       "      <td>88.778252</td>\n",
       "    </tr>\n",
       "    <tr>\n",
       "      <th>UIS.NERA.2.F</th>\n",
       "      <td>Albania</td>\n",
       "      <td>ALB</td>\n",
       "      <td>Adjusted net enrolment rate, lower secondary, ...</td>\n",
       "      <td>NaN</td>\n",
       "      <td>NaN</td>\n",
       "      <td>NaN</td>\n",
       "      <td>NaN</td>\n",
       "      <td>NaN</td>\n",
       "      <td>NaN</td>\n",
       "      <td>NaN</td>\n",
       "      <td>87.354607</td>\n",
       "      <td>88.133423</td>\n",
       "    </tr>\n",
       "    <tr>\n",
       "      <th>UIS.NERA.2.GPI</th>\n",
       "      <td>Albania</td>\n",
       "      <td>ALB</td>\n",
       "      <td>Adjusted net enrolment rate, lower secondary, ...</td>\n",
       "      <td>NaN</td>\n",
       "      <td>NaN</td>\n",
       "      <td>NaN</td>\n",
       "      <td>NaN</td>\n",
       "      <td>NaN</td>\n",
       "      <td>NaN</td>\n",
       "      <td>NaN</td>\n",
       "      <td>0.993110</td>\n",
       "      <td>0.986010</td>\n",
       "    </tr>\n",
       "    <tr>\n",
       "      <th>UIS.NERA.2.M</th>\n",
       "      <td>Albania</td>\n",
       "      <td>ALB</td>\n",
       "      <td>Adjusted net enrolment rate, lower secondary, ...</td>\n",
       "      <td>NaN</td>\n",
       "      <td>NaN</td>\n",
       "      <td>NaN</td>\n",
       "      <td>NaN</td>\n",
       "      <td>NaN</td>\n",
       "      <td>NaN</td>\n",
       "      <td>NaN</td>\n",
       "      <td>87.960289</td>\n",
       "      <td>89.383621</td>\n",
       "    </tr>\n",
       "    <tr>\n",
       "      <th>SE.PRM.TENR</th>\n",
       "      <td>Albania</td>\n",
       "      <td>ALB</td>\n",
       "      <td>Adjusted net enrolment rate, primary, both sex...</td>\n",
       "      <td>NaN</td>\n",
       "      <td>NaN</td>\n",
       "      <td>90.267288</td>\n",
       "      <td>89.393333</td>\n",
       "      <td>91.033867</td>\n",
       "      <td>93.225662</td>\n",
       "      <td>96.137093</td>\n",
       "      <td>95.912598</td>\n",
       "      <td>95.920891</td>\n",
       "    </tr>\n",
       "    <tr>\n",
       "      <th>...</th>\n",
       "      <td>...</td>\n",
       "      <td>...</td>\n",
       "      <td>...</td>\n",
       "      <td>...</td>\n",
       "      <td>...</td>\n",
       "      <td>...</td>\n",
       "      <td>...</td>\n",
       "      <td>...</td>\n",
       "      <td>...</td>\n",
       "      <td>...</td>\n",
       "      <td>...</td>\n",
       "      <td>...</td>\n",
       "    </tr>\n",
       "    <tr>\n",
       "      <th>PRJ.POP.ALL.1.MA</th>\n",
       "      <td>United Kingdom</td>\n",
       "      <td>GBR</td>\n",
       "      <td>Wittgenstein Projection: Population in thousan...</td>\n",
       "      <td>NaN</td>\n",
       "      <td>NaN</td>\n",
       "      <td>NaN</td>\n",
       "      <td>NaN</td>\n",
       "      <td>5944.340000</td>\n",
       "      <td>NaN</td>\n",
       "      <td>NaN</td>\n",
       "      <td>NaN</td>\n",
       "      <td>NaN</td>\n",
       "    </tr>\n",
       "    <tr>\n",
       "      <th>PRJ.POP.ALL.1.MF</th>\n",
       "      <td>United Kingdom</td>\n",
       "      <td>GBR</td>\n",
       "      <td>Wittgenstein Projection: Population in thousan...</td>\n",
       "      <td>NaN</td>\n",
       "      <td>NaN</td>\n",
       "      <td>NaN</td>\n",
       "      <td>NaN</td>\n",
       "      <td>13048.140000</td>\n",
       "      <td>NaN</td>\n",
       "      <td>NaN</td>\n",
       "      <td>NaN</td>\n",
       "      <td>NaN</td>\n",
       "    </tr>\n",
       "    <tr>\n",
       "      <th>PRJ.POP.ALL.3.FE</th>\n",
       "      <td>United Kingdom</td>\n",
       "      <td>GBR</td>\n",
       "      <td>Wittgenstein Projection: Population in thousan...</td>\n",
       "      <td>NaN</td>\n",
       "      <td>NaN</td>\n",
       "      <td>NaN</td>\n",
       "      <td>NaN</td>\n",
       "      <td>2907.850000</td>\n",
       "      <td>NaN</td>\n",
       "      <td>NaN</td>\n",
       "      <td>NaN</td>\n",
       "      <td>NaN</td>\n",
       "    </tr>\n",
       "    <tr>\n",
       "      <th>PRJ.POP.ALL.3.MA</th>\n",
       "      <td>United Kingdom</td>\n",
       "      <td>GBR</td>\n",
       "      <td>Wittgenstein Projection: Population in thousan...</td>\n",
       "      <td>NaN</td>\n",
       "      <td>NaN</td>\n",
       "      <td>NaN</td>\n",
       "      <td>NaN</td>\n",
       "      <td>2829.200000</td>\n",
       "      <td>NaN</td>\n",
       "      <td>NaN</td>\n",
       "      <td>NaN</td>\n",
       "      <td>NaN</td>\n",
       "    </tr>\n",
       "    <tr>\n",
       "      <th>PRJ.POP.ALL.3.MF</th>\n",
       "      <td>United Kingdom</td>\n",
       "      <td>GBR</td>\n",
       "      <td>Wittgenstein Projection: Population in thousan...</td>\n",
       "      <td>NaN</td>\n",
       "      <td>NaN</td>\n",
       "      <td>NaN</td>\n",
       "      <td>NaN</td>\n",
       "      <td>5737.050000</td>\n",
       "      <td>NaN</td>\n",
       "      <td>NaN</td>\n",
       "      <td>NaN</td>\n",
       "      <td>NaN</td>\n",
       "    </tr>\n",
       "  </tbody>\n",
       "</table>\n",
       "<p>76603 rows × 12 columns</p>\n",
       "</div>"
      ],
      "text/plain": [
       "                    Country Name Country Code  \\\n",
       "Indicator Code                                  \n",
       "UIS.NERA.2               Albania          ALB   \n",
       "UIS.NERA.2.F             Albania          ALB   \n",
       "UIS.NERA.2.GPI           Albania          ALB   \n",
       "UIS.NERA.2.M             Albania          ALB   \n",
       "SE.PRM.TENR              Albania          ALB   \n",
       "...                          ...          ...   \n",
       "PRJ.POP.ALL.1.MA  United Kingdom          GBR   \n",
       "PRJ.POP.ALL.1.MF  United Kingdom          GBR   \n",
       "PRJ.POP.ALL.3.FE  United Kingdom          GBR   \n",
       "PRJ.POP.ALL.3.MA  United Kingdom          GBR   \n",
       "PRJ.POP.ALL.3.MF  United Kingdom          GBR   \n",
       "\n",
       "                                                     Indicator Name  2006  \\\n",
       "Indicator Code                                                              \n",
       "UIS.NERA.2        Adjusted net enrolment rate, lower secondary, ...   NaN   \n",
       "UIS.NERA.2.F      Adjusted net enrolment rate, lower secondary, ...   NaN   \n",
       "UIS.NERA.2.GPI    Adjusted net enrolment rate, lower secondary, ...   NaN   \n",
       "UIS.NERA.2.M      Adjusted net enrolment rate, lower secondary, ...   NaN   \n",
       "SE.PRM.TENR       Adjusted net enrolment rate, primary, both sex...   NaN   \n",
       "...                                                             ...   ...   \n",
       "PRJ.POP.ALL.1.MA  Wittgenstein Projection: Population in thousan...   NaN   \n",
       "PRJ.POP.ALL.1.MF  Wittgenstein Projection: Population in thousan...   NaN   \n",
       "PRJ.POP.ALL.3.FE  Wittgenstein Projection: Population in thousan...   NaN   \n",
       "PRJ.POP.ALL.3.MA  Wittgenstein Projection: Population in thousan...   NaN   \n",
       "PRJ.POP.ALL.3.MF  Wittgenstein Projection: Population in thousan...   NaN   \n",
       "\n",
       "                  2007       2008       2009          2010       2011  \\\n",
       "Indicator Code                                                          \n",
       "UIS.NERA.2         NaN        NaN        NaN           NaN        NaN   \n",
       "UIS.NERA.2.F       NaN        NaN        NaN           NaN        NaN   \n",
       "UIS.NERA.2.GPI     NaN        NaN        NaN           NaN        NaN   \n",
       "UIS.NERA.2.M       NaN        NaN        NaN           NaN        NaN   \n",
       "SE.PRM.TENR        NaN  90.267288  89.393333     91.033867  93.225662   \n",
       "...                ...        ...        ...           ...        ...   \n",
       "PRJ.POP.ALL.1.MA   NaN        NaN        NaN   5944.340000        NaN   \n",
       "PRJ.POP.ALL.1.MF   NaN        NaN        NaN  13048.140000        NaN   \n",
       "PRJ.POP.ALL.3.FE   NaN        NaN        NaN   2907.850000        NaN   \n",
       "PRJ.POP.ALL.3.MA   NaN        NaN        NaN   2829.200000        NaN   \n",
       "PRJ.POP.ALL.3.MF   NaN        NaN        NaN   5737.050000        NaN   \n",
       "\n",
       "                       2012       2013       2014  \n",
       "Indicator Code                                     \n",
       "UIS.NERA.2              NaN  87.666588  88.778252  \n",
       "UIS.NERA.2.F            NaN  87.354607  88.133423  \n",
       "UIS.NERA.2.GPI          NaN   0.993110   0.986010  \n",
       "UIS.NERA.2.M            NaN  87.960289  89.383621  \n",
       "SE.PRM.TENR       96.137093  95.912598  95.920891  \n",
       "...                     ...        ...        ...  \n",
       "PRJ.POP.ALL.1.MA        NaN        NaN        NaN  \n",
       "PRJ.POP.ALL.1.MF        NaN        NaN        NaN  \n",
       "PRJ.POP.ALL.3.FE        NaN        NaN        NaN  \n",
       "PRJ.POP.ALL.3.MA        NaN        NaN        NaN  \n",
       "PRJ.POP.ALL.3.MF        NaN        NaN        NaN  \n",
       "\n",
       "[76603 rows x 12 columns]"
      ]
     },
     "execution_count": 689,
     "metadata": {},
     "output_type": "execute_result"
    }
   ],
   "source": [
    "dataEurope"
   ]
  },
  {
   "cell_type": "code",
   "execution_count": null,
   "metadata": {},
   "outputs": [],
   "source": [
    "#Exploring the GDP and GNI"
   ]
  },
  {
   "cell_type": "code",
   "execution_count": 690,
   "metadata": {},
   "outputs": [],
   "source": [
    "ecsGDP = dataECS[dataECS['Indicator Name']=='GDP per capita (current US$)']"
   ]
  },
  {
   "cell_type": "code",
   "execution_count": 691,
   "metadata": {},
   "outputs": [],
   "source": [
    "ecsGNI = dataECS[dataECS['Indicator Name']=='GNI per capita, Atlas method (current US$)']"
   ]
  },
  {
   "cell_type": "code",
   "execution_count": 692,
   "metadata": {},
   "outputs": [
    {
     "data": {
      "text/plain": [
       "Index(['Country Name', 'Country Code', 'Indicator Name', '2006', '2007',\n",
       "       '2008', '2009', '2010', '2011', '2012', '2013', '2014'],\n",
       "      dtype='object')"
      ]
     },
     "execution_count": 692,
     "metadata": {},
     "output_type": "execute_result"
    }
   ],
   "source": [
    "ecsGDP.columns"
   ]
  },
  {
   "cell_type": "code",
   "execution_count": 693,
   "metadata": {
    "scrolled": true
   },
   "outputs": [
    {
     "data": {
      "text/html": [
       "<div>\n",
       "<style scoped>\n",
       "    .dataframe tbody tr th:only-of-type {\n",
       "        vertical-align: middle;\n",
       "    }\n",
       "\n",
       "    .dataframe tbody tr th {\n",
       "        vertical-align: top;\n",
       "    }\n",
       "\n",
       "    .dataframe thead th {\n",
       "        text-align: right;\n",
       "    }\n",
       "</style>\n",
       "<table border=\"1\" class=\"dataframe\">\n",
       "  <thead>\n",
       "    <tr style=\"text-align: right;\">\n",
       "      <th></th>\n",
       "      <th>Country Name</th>\n",
       "      <th>Country Code</th>\n",
       "      <th>Indicator Name</th>\n",
       "      <th>2006</th>\n",
       "      <th>2007</th>\n",
       "      <th>2008</th>\n",
       "      <th>2009</th>\n",
       "      <th>2010</th>\n",
       "      <th>2011</th>\n",
       "      <th>2012</th>\n",
       "      <th>2013</th>\n",
       "      <th>2014</th>\n",
       "    </tr>\n",
       "    <tr>\n",
       "      <th>Indicator Code</th>\n",
       "      <th></th>\n",
       "      <th></th>\n",
       "      <th></th>\n",
       "      <th></th>\n",
       "      <th></th>\n",
       "      <th></th>\n",
       "      <th></th>\n",
       "      <th></th>\n",
       "      <th></th>\n",
       "      <th></th>\n",
       "      <th></th>\n",
       "      <th></th>\n",
       "    </tr>\n",
       "  </thead>\n",
       "  <tbody>\n",
       "    <tr>\n",
       "      <th>NY.GNP.PCAP.CD</th>\n",
       "      <td>Europe &amp; Central Asia</td>\n",
       "      <td>ECS</td>\n",
       "      <td>GNI per capita, Atlas method (current US$)</td>\n",
       "      <td>20813.907101</td>\n",
       "      <td>22565.301143</td>\n",
       "      <td>24535.092021</td>\n",
       "      <td>24248.80079</td>\n",
       "      <td>24465.162052</td>\n",
       "      <td>24919.629832</td>\n",
       "      <td>25201.808107</td>\n",
       "      <td>25886.446275</td>\n",
       "      <td>25883.591689</td>\n",
       "    </tr>\n",
       "  </tbody>\n",
       "</table>\n",
       "</div>"
      ],
      "text/plain": [
       "                         Country Name Country Code  \\\n",
       "Indicator Code                                       \n",
       "NY.GNP.PCAP.CD  Europe & Central Asia          ECS   \n",
       "\n",
       "                                            Indicator Name          2006  \\\n",
       "Indicator Code                                                             \n",
       "NY.GNP.PCAP.CD  GNI per capita, Atlas method (current US$)  20813.907101   \n",
       "\n",
       "                        2007          2008         2009          2010  \\\n",
       "Indicator Code                                                          \n",
       "NY.GNP.PCAP.CD  22565.301143  24535.092021  24248.80079  24465.162052   \n",
       "\n",
       "                        2011          2012          2013          2014  \n",
       "Indicator Code                                                          \n",
       "NY.GNP.PCAP.CD  24919.629832  25201.808107  25886.446275  25883.591689  "
      ]
     },
     "execution_count": 693,
     "metadata": {},
     "output_type": "execute_result"
    }
   ],
   "source": [
    "ecsGNI"
   ]
  },
  {
   "cell_type": "code",
   "execution_count": 694,
   "metadata": {},
   "outputs": [],
   "source": [
    "ecsGDP = ecsGDP.drop(['Country Name','Country Code','Indicator Name'], axis = 1)"
   ]
  },
  {
   "cell_type": "code",
   "execution_count": 695,
   "metadata": {},
   "outputs": [],
   "source": [
    "ecsGDP = ecsGDP.T"
   ]
  },
  {
   "cell_type": "code",
   "execution_count": 696,
   "metadata": {},
   "outputs": [
    {
     "data": {
      "text/html": [
       "<div>\n",
       "<style scoped>\n",
       "    .dataframe tbody tr th:only-of-type {\n",
       "        vertical-align: middle;\n",
       "    }\n",
       "\n",
       "    .dataframe tbody tr th {\n",
       "        vertical-align: top;\n",
       "    }\n",
       "\n",
       "    .dataframe thead th {\n",
       "        text-align: right;\n",
       "    }\n",
       "</style>\n",
       "<table border=\"1\" class=\"dataframe\">\n",
       "  <thead>\n",
       "    <tr style=\"text-align: right;\">\n",
       "      <th>Indicator Code</th>\n",
       "      <th>NY.GDP.PCAP.CD</th>\n",
       "    </tr>\n",
       "  </thead>\n",
       "  <tbody>\n",
       "    <tr>\n",
       "      <th>2006</th>\n",
       "      <td>20709.685651</td>\n",
       "    </tr>\n",
       "    <tr>\n",
       "      <th>2007</th>\n",
       "      <td>24108.847782</td>\n",
       "    </tr>\n",
       "    <tr>\n",
       "      <th>2008</th>\n",
       "      <td>26352.539224</td>\n",
       "    </tr>\n",
       "    <tr>\n",
       "      <th>2009</th>\n",
       "      <td>23084.226956</td>\n",
       "    </tr>\n",
       "    <tr>\n",
       "      <th>2010</th>\n",
       "      <td>23536.905927</td>\n",
       "    </tr>\n",
       "    <tr>\n",
       "      <th>2011</th>\n",
       "      <td>26015.889000</td>\n",
       "    </tr>\n",
       "    <tr>\n",
       "      <th>2012</th>\n",
       "      <td>24970.975153</td>\n",
       "    </tr>\n",
       "    <tr>\n",
       "      <th>2013</th>\n",
       "      <td>25976.554634</td>\n",
       "    </tr>\n",
       "    <tr>\n",
       "      <th>2014</th>\n",
       "      <td>26192.934765</td>\n",
       "    </tr>\n",
       "  </tbody>\n",
       "</table>\n",
       "</div>"
      ],
      "text/plain": [
       "Indicator Code  NY.GDP.PCAP.CD\n",
       "2006              20709.685651\n",
       "2007              24108.847782\n",
       "2008              26352.539224\n",
       "2009              23084.226956\n",
       "2010              23536.905927\n",
       "2011              26015.889000\n",
       "2012              24970.975153\n",
       "2013              25976.554634\n",
       "2014              26192.934765"
      ]
     },
     "execution_count": 696,
     "metadata": {},
     "output_type": "execute_result"
    }
   ],
   "source": [
    "ecsGDP"
   ]
  },
  {
   "cell_type": "code",
   "execution_count": 701,
   "metadata": {
    "scrolled": true
   },
   "outputs": [
    {
     "data": {
      "text/plain": [
       "Text(0, 0.5, 'US dollars')"
      ]
     },
     "execution_count": 701,
     "metadata": {},
     "output_type": "execute_result"
    },
    {
     "data": {
      "image/png": "[encoded data removed]",
      "text/plain": [
       "<Figure size 432x288 with 1 Axes>"
      ]
     },
     "metadata": {
      "needs_background": "light"
     },
     "output_type": "display_data"
    }
   ],
   "source": [
    "gdpGrowth = ecsGDP.plot(lw=2, colormap='jet', marker='.', markersize=10, title='GDP per capite (US$) growth 2006 - 2014')\n",
    "gdpGrowth.set_xlabel(\"years\")\n",
    "gdpGrowth.set_ylabel(\"US dollars\")"
   ]
  },
  {
   "cell_type": "code",
   "execution_count": 810,
   "metadata": {
    "scrolled": true
   },
   "outputs": [],
   "source": [
    "ecsGDP2014 = ecsGDP.loc['2014']"
   ]
  },
  {
   "cell_type": "code",
   "execution_count": 811,
   "metadata": {},
   "outputs": [
    {
     "data": {
      "text/plain": [
       "Indicator Code\n",
       "NY.GDP.PCAP.CD    26192.934765\n",
       "Name: 2014, dtype: float64"
      ]
     },
     "execution_count": 811,
     "metadata": {},
     "output_type": "execute_result"
    }
   ],
   "source": [
    "ecsGDP2014"
   ]
  },
  {
   "cell_type": "code",
   "execution_count": 812,
   "metadata": {},
   "outputs": [],
   "source": [
    "countriesGDP = dataCountries[dataCountries['Indicator Name']=='GDP per capita (current US$)']"
   ]
  },
  {
   "cell_type": "code",
   "execution_count": 813,
   "metadata": {},
   "outputs": [],
   "source": [
    "countriesGDP.set_index('Country Code',inplace=True)"
   ]
  },
  {
   "cell_type": "code",
   "execution_count": 814,
   "metadata": {},
   "outputs": [],
   "source": [
    "countriesGDP = countriesGDP.drop(['Country Name','Indicator Name'], axis = 1)"
   ]
  },
  {
   "cell_type": "code",
   "execution_count": 815,
   "metadata": {},
   "outputs": [],
   "source": [
    "countriesGDP = countriesGDP.T"
   ]
  },
  {
   "cell_type": "code",
   "execution_count": 816,
   "metadata": {},
   "outputs": [],
   "source": [
    "countriesGDP2014 = countriesGDP.loc['2014']"
   ]
  },
  {
   "cell_type": "code",
   "execution_count": 829,
   "metadata": {},
   "outputs": [
    {
     "data": {
      "text/plain": [
       "Text(0, 0.5, 'US dollars')"
      ]
     },
     "execution_count": 829,
     "metadata": {},
     "output_type": "execute_result"
    },
    {
     "data": {
      "image/png": "[encoded data removed]",
      "text/plain": [
       "<Figure size 2160x720 with 1 Axes>"
      ]
     },
     "metadata": {
      "needs_background": "light"
     },
     "output_type": "display_data"
    }
   ],
   "source": [
    "countriesGDP2014 = countriesGDP2014.T\n",
    "gniCGrowth = countriesGDP2014.plot(kind=\"bar\",figsize=(30,10), title='GDP 2014')\n",
    "gniCGrowth.set_xlabel(\"Country Code\")\n",
    "gniCGrowth.set_ylabel(\"US dollars\")"
   ]
  },
  {
   "cell_type": "code",
   "execution_count": 830,
   "metadata": {},
   "outputs": [],
   "source": [
    "countriesGDP2014top = countriesGDP2014.nlargest(5)"
   ]
  },
  {
   "cell_type": "code",
   "execution_count": 831,
   "metadata": {},
   "outputs": [
    {
     "data": {
      "text/plain": [
       "Country Code\n",
       "LIE    179308.075616\n",
       "LUX    119225.380023\n",
       "NOR     97199.919096\n",
       "IMN     89941.644285\n",
       "CHE     86605.563376\n",
       "Name: 2014, dtype: float64"
      ]
     },
     "execution_count": 831,
     "metadata": {},
     "output_type": "execute_result"
    }
   ],
   "source": [
    "countriesGDP2014top"
   ]
  },
  {
   "cell_type": "code",
   "execution_count": 832,
   "metadata": {},
   "outputs": [
    {
     "data": {
      "text/plain": [
       "Text(0, 0.5, 'US dollars')"
      ]
     },
     "execution_count": 832,
     "metadata": {},
     "output_type": "execute_result"
    },
    {
     "data": {
      "image/png": "[encoded data removed]",
      "text/plain": [
       "<Figure size 2160x720 with 1 Axes>"
      ]
     },
     "metadata": {
      "needs_background": "light"
     },
     "output_type": "display_data"
    }
   ],
   "source": [
    "countriesGDP2014top = countriesGDP2014top.T\n",
    "gniCGrowth = countriesGDP2014top.plot(kind=\"bar\",figsize=(30,10), title='GDP TOP 5')\n",
    "gniCGrowth.set_xlabel(\"Country Code\")\n",
    "gniCGrowth.set_ylabel(\"US dollars\")"
   ]
  },
  {
   "cell_type": "code",
   "execution_count": 833,
   "metadata": {},
   "outputs": [],
   "source": [
    "countriesGDP2014bottom = countriesGDP2014.nsmallest(5)"
   ]
  },
  {
   "cell_type": "code",
   "execution_count": 834,
   "metadata": {},
   "outputs": [
    {
     "data": {
      "text/plain": [
       "Country Code\n",
       "TJK    1104.459019\n",
       "KGZ    1279.769783\n",
       "UZB    2050.448414\n",
       "MDA    2244.763762\n",
       "UKR    3104.658296\n",
       "Name: 2014, dtype: float64"
      ]
     },
     "execution_count": 834,
     "metadata": {},
     "output_type": "execute_result"
    }
   ],
   "source": [
    "countriesGDP2014bottom"
   ]
  },
  {
   "cell_type": "code",
   "execution_count": 835,
   "metadata": {},
   "outputs": [
    {
     "data": {
      "text/plain": [
       "Text(0, 0.5, 'US dollars')"
      ]
     },
     "execution_count": 835,
     "metadata": {},
     "output_type": "execute_result"
    },
    {
     "data": {
      "image/png": "[encoded data removed]",
      "text/plain": [
       "<Figure size 2160x720 with 1 Axes>"
      ]
     },
     "metadata": {
      "needs_background": "light"
     },
     "output_type": "display_data"
    }
   ],
   "source": [
    "countriesGDP2014bottom = countriesGDP2014bottom.T\n",
    "gniCGrowth = countriesGDP2014bottom.plot(kind=\"bar\",figsize=(30,10), title='GDP TOP 5')\n",
    "gniCGrowth.set_xlabel(\"Country Code\")\n",
    "gniCGrowth.set_ylabel(\"US dollars\")"
   ]
  },
  {
   "cell_type": "code",
   "execution_count": 823,
   "metadata": {},
   "outputs": [
    {
     "ename": "KeyError",
     "evalue": "\"['Country Name' 'Country Code' 'Indicator Name'] not found in axis\"",
     "output_type": "error",
     "traceback": [
      "\u001b[0;31m---------------------------------------------------------------------------\u001b[0m",
      "\u001b[0;31mKeyError\u001b[0m                                  Traceback (most recent call last)",
      "\u001b[0;32m<ipython-input-823-9e924a79dd4c>\u001b[0m in \u001b[0;36m<module>\u001b[0;34m\u001b[0m\n\u001b[0;32m----> 1\u001b[0;31m \u001b[0mecsGNI\u001b[0m \u001b[0;34m=\u001b[0m \u001b[0mecsGNI\u001b[0m\u001b[0;34m.\u001b[0m\u001b[0mdrop\u001b[0m\u001b[0;34m(\u001b[0m\u001b[0;34m[\u001b[0m\u001b[0;34m'Country Name'\u001b[0m\u001b[0;34m,\u001b[0m\u001b[0;34m'Country Code'\u001b[0m\u001b[0;34m,\u001b[0m\u001b[0;34m'Indicator Name'\u001b[0m\u001b[0;34m]\u001b[0m\u001b[0;34m,\u001b[0m \u001b[0maxis\u001b[0m \u001b[0;34m=\u001b[0m \u001b[0;36m1\u001b[0m\u001b[0;34m)\u001b[0m\u001b[0;34m\u001b[0m\u001b[0;34m\u001b[0m\u001b[0m\n\u001b[0m",
      "\u001b[0;32m/Library/Frameworks/Python.framework/Versions/3.7/lib/python3.7/site-packages/pandas/core/frame.py\u001b[0m in \u001b[0;36mdrop\u001b[0;34m(self, labels, axis, index, columns, level, inplace, errors)\u001b[0m\n\u001b[1;32m   4167\u001b[0m             \u001b[0mlevel\u001b[0m\u001b[0;34m=\u001b[0m\u001b[0mlevel\u001b[0m\u001b[0;34m,\u001b[0m\u001b[0;34m\u001b[0m\u001b[0;34m\u001b[0m\u001b[0m\n\u001b[1;32m   4168\u001b[0m             \u001b[0minplace\u001b[0m\u001b[0;34m=\u001b[0m\u001b[0minplace\u001b[0m\u001b[0;34m,\u001b[0m\u001b[0;34m\u001b[0m\u001b[0;34m\u001b[0m\u001b[0m\n\u001b[0;32m-> 4169\u001b[0;31m             \u001b[0merrors\u001b[0m\u001b[0;34m=\u001b[0m\u001b[0merrors\u001b[0m\u001b[0;34m,\u001b[0m\u001b[0;34m\u001b[0m\u001b[0;34m\u001b[0m\u001b[0m\n\u001b[0m\u001b[1;32m   4170\u001b[0m         )\n\u001b[1;32m   4171\u001b[0m \u001b[0;34m\u001b[0m\u001b[0m\n",
      "\u001b[0;32m/Library/Frameworks/Python.framework/Versions/3.7/lib/python3.7/site-packages/pandas/core/generic.py\u001b[0m in \u001b[0;36mdrop\u001b[0;34m(self, labels, axis, index, columns, level, inplace, errors)\u001b[0m\n\u001b[1;32m   3882\u001b[0m         \u001b[0;32mfor\u001b[0m \u001b[0maxis\u001b[0m\u001b[0;34m,\u001b[0m \u001b[0mlabels\u001b[0m \u001b[0;32min\u001b[0m \u001b[0maxes\u001b[0m\u001b[0;34m.\u001b[0m\u001b[0mitems\u001b[0m\u001b[0;34m(\u001b[0m\u001b[0;34m)\u001b[0m\u001b[0;34m:\u001b[0m\u001b[0;34m\u001b[0m\u001b[0;34m\u001b[0m\u001b[0m\n\u001b[1;32m   3883\u001b[0m             \u001b[0;32mif\u001b[0m \u001b[0mlabels\u001b[0m \u001b[0;32mis\u001b[0m \u001b[0;32mnot\u001b[0m \u001b[0;32mNone\u001b[0m\u001b[0;34m:\u001b[0m\u001b[0;34m\u001b[0m\u001b[0;34m\u001b[0m\u001b[0m\n\u001b[0;32m-> 3884\u001b[0;31m                 \u001b[0mobj\u001b[0m \u001b[0;34m=\u001b[0m \u001b[0mobj\u001b[0m\u001b[0;34m.\u001b[0m\u001b[0m_drop_axis\u001b[0m\u001b[0;34m(\u001b[0m\u001b[0mlabels\u001b[0m\u001b[0;34m,\u001b[0m \u001b[0maxis\u001b[0m\u001b[0;34m,\u001b[0m \u001b[0mlevel\u001b[0m\u001b[0;34m=\u001b[0m\u001b[0mlevel\u001b[0m\u001b[0;34m,\u001b[0m \u001b[0merrors\u001b[0m\u001b[0;34m=\u001b[0m\u001b[0merrors\u001b[0m\u001b[0;34m)\u001b[0m\u001b[0;34m\u001b[0m\u001b[0;34m\u001b[0m\u001b[0m\n\u001b[0m\u001b[1;32m   3885\u001b[0m \u001b[0;34m\u001b[0m\u001b[0m\n\u001b[1;32m   3886\u001b[0m         \u001b[0;32mif\u001b[0m \u001b[0minplace\u001b[0m\u001b[0;34m:\u001b[0m\u001b[0;34m\u001b[0m\u001b[0;34m\u001b[0m\u001b[0m\n",
      "\u001b[0;32m/Library/Frameworks/Python.framework/Versions/3.7/lib/python3.7/site-packages/pandas/core/generic.py\u001b[0m in \u001b[0;36m_drop_axis\u001b[0;34m(self, labels, axis, level, errors)\u001b[0m\n\u001b[1;32m   3916\u001b[0m                 \u001b[0mnew_axis\u001b[0m \u001b[0;34m=\u001b[0m \u001b[0maxis\u001b[0m\u001b[0;34m.\u001b[0m\u001b[0mdrop\u001b[0m\u001b[0;34m(\u001b[0m\u001b[0mlabels\u001b[0m\u001b[0;34m,\u001b[0m \u001b[0mlevel\u001b[0m\u001b[0;34m=\u001b[0m\u001b[0mlevel\u001b[0m\u001b[0;34m,\u001b[0m \u001b[0merrors\u001b[0m\u001b[0;34m=\u001b[0m\u001b[0merrors\u001b[0m\u001b[0;34m)\u001b[0m\u001b[0;34m\u001b[0m\u001b[0;34m\u001b[0m\u001b[0m\n\u001b[1;32m   3917\u001b[0m             \u001b[0;32melse\u001b[0m\u001b[0;34m:\u001b[0m\u001b[0;34m\u001b[0m\u001b[0;34m\u001b[0m\u001b[0m\n\u001b[0;32m-> 3918\u001b[0;31m                 \u001b[0mnew_axis\u001b[0m \u001b[0;34m=\u001b[0m \u001b[0maxis\u001b[0m\u001b[0;34m.\u001b[0m\u001b[0mdrop\u001b[0m\u001b[0;34m(\u001b[0m\u001b[0mlabels\u001b[0m\u001b[0;34m,\u001b[0m \u001b[0merrors\u001b[0m\u001b[0;34m=\u001b[0m\u001b[0merrors\u001b[0m\u001b[0;34m)\u001b[0m\u001b[0;34m\u001b[0m\u001b[0;34m\u001b[0m\u001b[0m\n\u001b[0m\u001b[1;32m   3919\u001b[0m             \u001b[0mresult\u001b[0m \u001b[0;34m=\u001b[0m \u001b[0mself\u001b[0m\u001b[0;34m.\u001b[0m\u001b[0mreindex\u001b[0m\u001b[0;34m(\u001b[0m\u001b[0;34m**\u001b[0m\u001b[0;34m{\u001b[0m\u001b[0maxis_name\u001b[0m\u001b[0;34m:\u001b[0m \u001b[0mnew_axis\u001b[0m\u001b[0;34m}\u001b[0m\u001b[0;34m)\u001b[0m\u001b[0;34m\u001b[0m\u001b[0;34m\u001b[0m\u001b[0m\n\u001b[1;32m   3920\u001b[0m \u001b[0;34m\u001b[0m\u001b[0m\n",
      "\u001b[0;32m/Library/Frameworks/Python.framework/Versions/3.7/lib/python3.7/site-packages/pandas/core/indexes/base.py\u001b[0m in \u001b[0;36mdrop\u001b[0;34m(self, labels, errors)\u001b[0m\n\u001b[1;32m   5276\u001b[0m         \u001b[0;32mif\u001b[0m \u001b[0mmask\u001b[0m\u001b[0;34m.\u001b[0m\u001b[0many\u001b[0m\u001b[0;34m(\u001b[0m\u001b[0;34m)\u001b[0m\u001b[0;34m:\u001b[0m\u001b[0;34m\u001b[0m\u001b[0;34m\u001b[0m\u001b[0m\n\u001b[1;32m   5277\u001b[0m             \u001b[0;32mif\u001b[0m \u001b[0merrors\u001b[0m \u001b[0;34m!=\u001b[0m \u001b[0;34m\"ignore\"\u001b[0m\u001b[0;34m:\u001b[0m\u001b[0;34m\u001b[0m\u001b[0;34m\u001b[0m\u001b[0m\n\u001b[0;32m-> 5278\u001b[0;31m                 \u001b[0;32mraise\u001b[0m \u001b[0mKeyError\u001b[0m\u001b[0;34m(\u001b[0m\u001b[0;34mf\"{labels[mask]} not found in axis\"\u001b[0m\u001b[0;34m)\u001b[0m\u001b[0;34m\u001b[0m\u001b[0;34m\u001b[0m\u001b[0m\n\u001b[0m\u001b[1;32m   5279\u001b[0m             \u001b[0mindexer\u001b[0m \u001b[0;34m=\u001b[0m \u001b[0mindexer\u001b[0m\u001b[0;34m[\u001b[0m\u001b[0;34m~\u001b[0m\u001b[0mmask\u001b[0m\u001b[0;34m]\u001b[0m\u001b[0;34m\u001b[0m\u001b[0;34m\u001b[0m\u001b[0m\n\u001b[1;32m   5280\u001b[0m         \u001b[0;32mreturn\u001b[0m \u001b[0mself\u001b[0m\u001b[0;34m.\u001b[0m\u001b[0mdelete\u001b[0m\u001b[0;34m(\u001b[0m\u001b[0mindexer\u001b[0m\u001b[0;34m)\u001b[0m\u001b[0;34m\u001b[0m\u001b[0;34m\u001b[0m\u001b[0m\n",
      "\u001b[0;31mKeyError\u001b[0m: \"['Country Name' 'Country Code' 'Indicator Name'] not found in axis\""
     ]
    }
   ],
   "source": [
    "ecsGNI = ecsGNI.drop(['Country Name','Country Code','Indicator Name'], axis = 1)"
   ]
  },
  {
   "cell_type": "code",
   "execution_count": 836,
   "metadata": {},
   "outputs": [],
   "source": [
    "ecsGNI = ecsGNI.T"
   ]
  },
  {
   "cell_type": "code",
   "execution_count": 837,
   "metadata": {},
   "outputs": [
    {
     "data": {
      "text/html": [
       "<div>\n",
       "<style scoped>\n",
       "    .dataframe tbody tr th:only-of-type {\n",
       "        vertical-align: middle;\n",
       "    }\n",
       "\n",
       "    .dataframe tbody tr th {\n",
       "        vertical-align: top;\n",
       "    }\n",
       "\n",
       "    .dataframe thead th {\n",
       "        text-align: right;\n",
       "    }\n",
       "</style>\n",
       "<table border=\"1\" class=\"dataframe\">\n",
       "  <thead>\n",
       "    <tr style=\"text-align: right;\">\n",
       "      <th></th>\n",
       "      <th>2006</th>\n",
       "      <th>2007</th>\n",
       "      <th>2008</th>\n",
       "      <th>2009</th>\n",
       "      <th>2010</th>\n",
       "      <th>2011</th>\n",
       "      <th>2012</th>\n",
       "      <th>2013</th>\n",
       "      <th>2014</th>\n",
       "    </tr>\n",
       "    <tr>\n",
       "      <th>Indicator Code</th>\n",
       "      <th></th>\n",
       "      <th></th>\n",
       "      <th></th>\n",
       "      <th></th>\n",
       "      <th></th>\n",
       "      <th></th>\n",
       "      <th></th>\n",
       "      <th></th>\n",
       "      <th></th>\n",
       "    </tr>\n",
       "  </thead>\n",
       "  <tbody>\n",
       "    <tr>\n",
       "      <th>NY.GNP.PCAP.CD</th>\n",
       "      <td>20813.907101</td>\n",
       "      <td>22565.301143</td>\n",
       "      <td>24535.092021</td>\n",
       "      <td>24248.80079</td>\n",
       "      <td>24465.162052</td>\n",
       "      <td>24919.629832</td>\n",
       "      <td>25201.808107</td>\n",
       "      <td>25886.446275</td>\n",
       "      <td>25883.591689</td>\n",
       "    </tr>\n",
       "  </tbody>\n",
       "</table>\n",
       "</div>"
      ],
      "text/plain": [
       "                        2006          2007          2008         2009  \\\n",
       "Indicator Code                                                          \n",
       "NY.GNP.PCAP.CD  20813.907101  22565.301143  24535.092021  24248.80079   \n",
       "\n",
       "                        2010          2011          2012          2013  \\\n",
       "Indicator Code                                                           \n",
       "NY.GNP.PCAP.CD  24465.162052  24919.629832  25201.808107  25886.446275   \n",
       "\n",
       "                        2014  \n",
       "Indicator Code                \n",
       "NY.GNP.PCAP.CD  25883.591689  "
      ]
     },
     "execution_count": 837,
     "metadata": {},
     "output_type": "execute_result"
    }
   ],
   "source": [
    "ecsGNI"
   ]
  },
  {
   "cell_type": "code",
   "execution_count": 838,
   "metadata": {},
   "outputs": [
    {
     "data": {
      "text/plain": [
       "Text(0, 0.5, 'US dollars')"
      ]
     },
     "execution_count": 838,
     "metadata": {},
     "output_type": "execute_result"
    },
    {
     "data": {
      "image/png": "[encoded data removed]",
      "text/plain": [
       "<Figure size 432x288 with 1 Axes>"
      ]
     },
     "metadata": {
      "needs_background": "light"
     },
     "output_type": "display_data"
    }
   ],
   "source": [
    "gniGrowth = ecsGNI.plot(lw=2, colormap='jet', marker='.', markersize=10, title='GNI per capite (US$) growth 1976 - 2016')\n",
    "gniGrowth.set_xlabel(\"years\")\n",
    "gniGrowth.set_ylabel(\"US dollars\")"
   ]
  },
  {
   "cell_type": "code",
   "execution_count": 839,
   "metadata": {},
   "outputs": [
    {
     "data": {
      "text/plain": [
       "Index(['SE.PRM.TENR', 'SE.PRM.TENR.FE', 'UIS.NERA.1.GPI', 'SE.PRM.TENR.MA',\n",
       "       'UIS.NIRA.1', 'UIS.NIRA.1.F', 'UIS.NIRA.1.GPI', 'UIS.NIRA.1.M',\n",
       "       'UIS.LPP.AG15T99', 'UIS.LP.AG15T99',\n",
       "       ...\n",
       "       'SL.UEM.TOTL.MA.ZS', 'SL.UEM.TOTL.ZS', 'UIS.LPP.AG15T24',\n",
       "       'UIS.LP.AG15T24', 'UIS.LP.AG15T24.F', 'UIS.LP.AG15T24.M',\n",
       "       'SE.ADT.1524.LT.ZS', 'SE.ADT.1524.LT.FE.ZS', 'SE.ADT.1524.LT.FM.ZS',\n",
       "       'SE.ADT.1524.LT.MA.ZS'],\n",
       "      dtype='object', name='Indicator Code', length=364)"
      ]
     },
     "execution_count": 839,
     "metadata": {},
     "output_type": "execute_result"
    }
   ],
   "source": [
    "dataECS.index"
   ]
  },
  {
   "cell_type": "code",
   "execution_count": 840,
   "metadata": {},
   "outputs": [],
   "source": [
    "ecsOfficialAgePop = dataECS[dataECS.index.isin(['SP.PRM.TOTL.IN','SP.SEC.TOTL.IN','SP.TER.TOTL.IN'])]"
   ]
  },
  {
   "cell_type": "code",
   "execution_count": 841,
   "metadata": {},
   "outputs": [],
   "source": [
    "ecsOfficialAgePop = ecsOfficialAgePop.drop(['Country Name','Country Code','Indicator Name'], axis = 1)"
   ]
  },
  {
   "cell_type": "code",
   "execution_count": 842,
   "metadata": {},
   "outputs": [],
   "source": [
    "ecsOfficialAgePop = ecsOfficialAgePop.T"
   ]
  },
  {
   "cell_type": "code",
   "execution_count": 843,
   "metadata": {},
   "outputs": [
    {
     "data": {
      "text/html": [
       "<div>\n",
       "<style scoped>\n",
       "    .dataframe tbody tr th:only-of-type {\n",
       "        vertical-align: middle;\n",
       "    }\n",
       "\n",
       "    .dataframe tbody tr th {\n",
       "        vertical-align: top;\n",
       "    }\n",
       "\n",
       "    .dataframe thead th {\n",
       "        text-align: right;\n",
       "    }\n",
       "</style>\n",
       "<table border=\"1\" class=\"dataframe\">\n",
       "  <thead>\n",
       "    <tr style=\"text-align: right;\">\n",
       "      <th>Indicator Code</th>\n",
       "      <th>SP.PRM.TOTL.IN</th>\n",
       "      <th>SP.SEC.TOTL.IN</th>\n",
       "      <th>SP.TER.TOTL.IN</th>\n",
       "    </tr>\n",
       "  </thead>\n",
       "  <tbody>\n",
       "    <tr>\n",
       "      <th>2006</th>\n",
       "      <td>49196768.0</td>\n",
       "      <td>84141720.0</td>\n",
       "      <td>65087564.0</td>\n",
       "    </tr>\n",
       "    <tr>\n",
       "      <th>2007</th>\n",
       "      <td>48497408.0</td>\n",
       "      <td>82119504.0</td>\n",
       "      <td>65209984.0</td>\n",
       "    </tr>\n",
       "    <tr>\n",
       "      <th>2008</th>\n",
       "      <td>47894436.0</td>\n",
       "      <td>80211776.0</td>\n",
       "      <td>65098584.0</td>\n",
       "    </tr>\n",
       "    <tr>\n",
       "      <th>2009</th>\n",
       "      <td>47524048.0</td>\n",
       "      <td>79542152.0</td>\n",
       "      <td>64662404.0</td>\n",
       "    </tr>\n",
       "    <tr>\n",
       "      <th>2010</th>\n",
       "      <td>47385436.0</td>\n",
       "      <td>77721872.0</td>\n",
       "      <td>63839908.0</td>\n",
       "    </tr>\n",
       "    <tr>\n",
       "      <th>2011</th>\n",
       "      <td>47495392.0</td>\n",
       "      <td>76036096.0</td>\n",
       "      <td>62602388.0</td>\n",
       "    </tr>\n",
       "    <tr>\n",
       "      <th>2012</th>\n",
       "      <td>47715904.0</td>\n",
       "      <td>74553128.0</td>\n",
       "      <td>61026108.0</td>\n",
       "    </tr>\n",
       "    <tr>\n",
       "      <th>2013</th>\n",
       "      <td>47149720.0</td>\n",
       "      <td>74726272.0</td>\n",
       "      <td>59402204.0</td>\n",
       "    </tr>\n",
       "    <tr>\n",
       "      <th>2014</th>\n",
       "      <td>47786228.0</td>\n",
       "      <td>73745552.0</td>\n",
       "      <td>57917924.0</td>\n",
       "    </tr>\n",
       "  </tbody>\n",
       "</table>\n",
       "</div>"
      ],
      "text/plain": [
       "Indicator Code  SP.PRM.TOTL.IN  SP.SEC.TOTL.IN  SP.TER.TOTL.IN\n",
       "2006                49196768.0      84141720.0      65087564.0\n",
       "2007                48497408.0      82119504.0      65209984.0\n",
       "2008                47894436.0      80211776.0      65098584.0\n",
       "2009                47524048.0      79542152.0      64662404.0\n",
       "2010                47385436.0      77721872.0      63839908.0\n",
       "2011                47495392.0      76036096.0      62602388.0\n",
       "2012                47715904.0      74553128.0      61026108.0\n",
       "2013                47149720.0      74726272.0      59402204.0\n",
       "2014                47786228.0      73745552.0      57917924.0"
      ]
     },
     "execution_count": 843,
     "metadata": {},
     "output_type": "execute_result"
    }
   ],
   "source": [
    "ecsOfficialAgePop"
   ]
  },
  {
   "cell_type": "code",
   "execution_count": 844,
   "metadata": {},
   "outputs": [
    {
     "data": {
      "text/plain": [
       "Text(0, 0.5, 'population')"
      ]
     },
     "execution_count": 844,
     "metadata": {},
     "output_type": "execute_result"
    },
    {
     "data": {
      "image/png": "[encoded data removed]",
      "text/plain": [
       "<Figure size 432x288 with 1 Axes>"
      ]
     },
     "metadata": {
      "needs_background": "light"
     },
     "output_type": "display_data"
    }
   ],
   "source": [
    "officialAge = ecsOfficialAgePop.plot(lw=2, colormap='jet', marker='.', markersize=10, title='Population with official age')\n",
    "officialAge.set_xlabel(\"years\")\n",
    "officialAge.set_ylabel(\"population\")"
   ]
  },
  {
   "cell_type": "code",
   "execution_count": null,
   "metadata": {},
   "outputs": [],
   "source": [
    "#Teachers Data"
   ]
  },
  {
   "cell_type": "code",
   "execution_count": 848,
   "metadata": {},
   "outputs": [],
   "source": [
    "teacherData = dataECS[dataECS.index.isin(['SE.PRM.TCHR','SE.PRM.TCHR.FE','SE.SEC.TCHR','SE.SEC.TCHR.FE','SE.TER.TCHR','SE.TER.TCHR.FE'])]"
   ]
  },
  {
   "cell_type": "code",
   "execution_count": 849,
   "metadata": {},
   "outputs": [
    {
     "data": {
      "text/html": [
       "<div>\n",
       "<style scoped>\n",
       "    .dataframe tbody tr th:only-of-type {\n",
       "        vertical-align: middle;\n",
       "    }\n",
       "\n",
       "    .dataframe tbody tr th {\n",
       "        vertical-align: top;\n",
       "    }\n",
       "\n",
       "    .dataframe thead th {\n",
       "        text-align: right;\n",
       "    }\n",
       "</style>\n",
       "<table border=\"1\" class=\"dataframe\">\n",
       "  <thead>\n",
       "    <tr style=\"text-align: right;\">\n",
       "      <th></th>\n",
       "      <th>Country Name</th>\n",
       "      <th>Country Code</th>\n",
       "      <th>Indicator Name</th>\n",
       "      <th>2006</th>\n",
       "      <th>2007</th>\n",
       "      <th>2008</th>\n",
       "      <th>2009</th>\n",
       "      <th>2010</th>\n",
       "      <th>2011</th>\n",
       "      <th>2012</th>\n",
       "      <th>2013</th>\n",
       "      <th>2014</th>\n",
       "    </tr>\n",
       "    <tr>\n",
       "      <th>Indicator Code</th>\n",
       "      <th></th>\n",
       "      <th></th>\n",
       "      <th></th>\n",
       "      <th></th>\n",
       "      <th></th>\n",
       "      <th></th>\n",
       "      <th></th>\n",
       "      <th></th>\n",
       "      <th></th>\n",
       "      <th></th>\n",
       "      <th></th>\n",
       "      <th></th>\n",
       "    </tr>\n",
       "  </thead>\n",
       "  <tbody>\n",
       "    <tr>\n",
       "      <th>SE.PRM.TCHR</th>\n",
       "      <td>Europe &amp; Central Asia</td>\n",
       "      <td>ECS</td>\n",
       "      <td>Teachers in primary education, both sexes (num...</td>\n",
       "      <td>3254363.75</td>\n",
       "      <td>3289846.75</td>\n",
       "      <td>3287752.750</td>\n",
       "      <td>3281468.00</td>\n",
       "      <td>3300973.50</td>\n",
       "      <td>3327067.5</td>\n",
       "      <td>3300211.50</td>\n",
       "      <td>3297691.50</td>\n",
       "      <td>3308773.75</td>\n",
       "    </tr>\n",
       "    <tr>\n",
       "      <th>SE.PRM.TCHR.FE</th>\n",
       "      <td>Europe &amp; Central Asia</td>\n",
       "      <td>ECS</td>\n",
       "      <td>Teachers in primary education, female (number)</td>\n",
       "      <td>2681917.25</td>\n",
       "      <td>2711832.25</td>\n",
       "      <td>2718938.750</td>\n",
       "      <td>2719245.50</td>\n",
       "      <td>2755929.25</td>\n",
       "      <td>2780480.5</td>\n",
       "      <td>2766398.75</td>\n",
       "      <td>2789070.50</td>\n",
       "      <td>2803901.75</td>\n",
       "    </tr>\n",
       "    <tr>\n",
       "      <th>SE.SEC.TCHR</th>\n",
       "      <td>Europe &amp; Central Asia</td>\n",
       "      <td>ECS</td>\n",
       "      <td>Teachers in secondary education, both sexes (n...</td>\n",
       "      <td>6979053.50</td>\n",
       "      <td>6952379.00</td>\n",
       "      <td>6842151.000</td>\n",
       "      <td>6763715.50</td>\n",
       "      <td>6679073.50</td>\n",
       "      <td>6599155.0</td>\n",
       "      <td>6501157.50</td>\n",
       "      <td>6700810.50</td>\n",
       "      <td>6594645.00</td>\n",
       "    </tr>\n",
       "    <tr>\n",
       "      <th>SE.SEC.TCHR.FE</th>\n",
       "      <td>Europe &amp; Central Asia</td>\n",
       "      <td>ECS</td>\n",
       "      <td>Teachers in secondary education, female (number)</td>\n",
       "      <td>4630642.50</td>\n",
       "      <td>4642532.00</td>\n",
       "      <td>4563586.500</td>\n",
       "      <td>4527719.50</td>\n",
       "      <td>4468884.00</td>\n",
       "      <td>4406529.5</td>\n",
       "      <td>4354183.50</td>\n",
       "      <td>4473221.50</td>\n",
       "      <td>4414999.50</td>\n",
       "    </tr>\n",
       "    <tr>\n",
       "      <th>SE.TER.TCHR</th>\n",
       "      <td>Europe &amp; Central Asia</td>\n",
       "      <td>ECS</td>\n",
       "      <td>Teachers in tertiary education programmes, bot...</td>\n",
       "      <td>2599365.50</td>\n",
       "      <td>2630300.00</td>\n",
       "      <td>2680379.500</td>\n",
       "      <td>2687307.75</td>\n",
       "      <td>2695915.75</td>\n",
       "      <td>2674932.0</td>\n",
       "      <td>2633510.25</td>\n",
       "      <td>2601102.00</td>\n",
       "      <td>2553312.00</td>\n",
       "    </tr>\n",
       "    <tr>\n",
       "      <th>SE.TER.TCHR.FE</th>\n",
       "      <td>Europe &amp; Central Asia</td>\n",
       "      <td>ECS</td>\n",
       "      <td>Teachers in tertiary education programmes, fem...</td>\n",
       "      <td>1160925.25</td>\n",
       "      <td>1183229.00</td>\n",
       "      <td>1203567.375</td>\n",
       "      <td>1212777.50</td>\n",
       "      <td>1223629.00</td>\n",
       "      <td>1219571.5</td>\n",
       "      <td>1204791.50</td>\n",
       "      <td>1191683.75</td>\n",
       "      <td>1169543.50</td>\n",
       "    </tr>\n",
       "  </tbody>\n",
       "</table>\n",
       "</div>"
      ],
      "text/plain": [
       "                         Country Name Country Code  \\\n",
       "Indicator Code                                       \n",
       "SE.PRM.TCHR     Europe & Central Asia          ECS   \n",
       "SE.PRM.TCHR.FE  Europe & Central Asia          ECS   \n",
       "SE.SEC.TCHR     Europe & Central Asia          ECS   \n",
       "SE.SEC.TCHR.FE  Europe & Central Asia          ECS   \n",
       "SE.TER.TCHR     Europe & Central Asia          ECS   \n",
       "SE.TER.TCHR.FE  Europe & Central Asia          ECS   \n",
       "\n",
       "                                                   Indicator Name        2006  \\\n",
       "Indicator Code                                                                  \n",
       "SE.PRM.TCHR     Teachers in primary education, both sexes (num...  3254363.75   \n",
       "SE.PRM.TCHR.FE     Teachers in primary education, female (number)  2681917.25   \n",
       "SE.SEC.TCHR     Teachers in secondary education, both sexes (n...  6979053.50   \n",
       "SE.SEC.TCHR.FE   Teachers in secondary education, female (number)  4630642.50   \n",
       "SE.TER.TCHR     Teachers in tertiary education programmes, bot...  2599365.50   \n",
       "SE.TER.TCHR.FE  Teachers in tertiary education programmes, fem...  1160925.25   \n",
       "\n",
       "                      2007         2008        2009        2010       2011  \\\n",
       "Indicator Code                                                               \n",
       "SE.PRM.TCHR     3289846.75  3287752.750  3281468.00  3300973.50  3327067.5   \n",
       "SE.PRM.TCHR.FE  2711832.25  2718938.750  2719245.50  2755929.25  2780480.5   \n",
       "SE.SEC.TCHR     6952379.00  6842151.000  6763715.50  6679073.50  6599155.0   \n",
       "SE.SEC.TCHR.FE  4642532.00  4563586.500  4527719.50  4468884.00  4406529.5   \n",
       "SE.TER.TCHR     2630300.00  2680379.500  2687307.75  2695915.75  2674932.0   \n",
       "SE.TER.TCHR.FE  1183229.00  1203567.375  1212777.50  1223629.00  1219571.5   \n",
       "\n",
       "                      2012        2013        2014  \n",
       "Indicator Code                                      \n",
       "SE.PRM.TCHR     3300211.50  3297691.50  3308773.75  \n",
       "SE.PRM.TCHR.FE  2766398.75  2789070.50  2803901.75  \n",
       "SE.SEC.TCHR     6501157.50  6700810.50  6594645.00  \n",
       "SE.SEC.TCHR.FE  4354183.50  4473221.50  4414999.50  \n",
       "SE.TER.TCHR     2633510.25  2601102.00  2553312.00  \n",
       "SE.TER.TCHR.FE  1204791.50  1191683.75  1169543.50  "
      ]
     },
     "execution_count": 849,
     "metadata": {},
     "output_type": "execute_result"
    }
   ],
   "source": [
    "teacherData"
   ]
  },
  {
   "cell_type": "code",
   "execution_count": null,
   "metadata": {},
   "outputs": [],
   "source": []
  },
  {
   "cell_type": "code",
   "execution_count": null,
   "metadata": {},
   "outputs": [],
   "source": [
    "#EnrollmentRate Data"
   ]
  },
  {
   "cell_type": "code",
   "execution_count": 845,
   "metadata": {},
   "outputs": [],
   "source": [
    "ecsGrossEnrolmentRate = dataECS[dataECS.index.isin(['SE.PRM.ENRR','SE.PRM.ENRR.FE','SE.SEC.ENRR','SE.SEC.ENRR.FE','SE.TER.ENRR','SE.TER.ENRR.FE'])]"
   ]
  },
  {
   "cell_type": "code",
   "execution_count": 846,
   "metadata": {},
   "outputs": [
    {
     "data": {
      "text/html": [
       "<div>\n",
       "<style scoped>\n",
       "    .dataframe tbody tr th:only-of-type {\n",
       "        vertical-align: middle;\n",
       "    }\n",
       "\n",
       "    .dataframe tbody tr th {\n",
       "        vertical-align: top;\n",
       "    }\n",
       "\n",
       "    .dataframe thead th {\n",
       "        text-align: right;\n",
       "    }\n",
       "</style>\n",
       "<table border=\"1\" class=\"dataframe\">\n",
       "  <thead>\n",
       "    <tr style=\"text-align: right;\">\n",
       "      <th></th>\n",
       "      <th>Country Name</th>\n",
       "      <th>Country Code</th>\n",
       "      <th>Indicator Name</th>\n",
       "      <th>2006</th>\n",
       "      <th>2007</th>\n",
       "      <th>2008</th>\n",
       "      <th>2009</th>\n",
       "      <th>2010</th>\n",
       "      <th>2011</th>\n",
       "      <th>2012</th>\n",
       "      <th>2013</th>\n",
       "      <th>2014</th>\n",
       "    </tr>\n",
       "    <tr>\n",
       "      <th>Indicator Code</th>\n",
       "      <th></th>\n",
       "      <th></th>\n",
       "      <th></th>\n",
       "      <th></th>\n",
       "      <th></th>\n",
       "      <th></th>\n",
       "      <th></th>\n",
       "      <th></th>\n",
       "      <th></th>\n",
       "      <th></th>\n",
       "      <th></th>\n",
       "      <th></th>\n",
       "    </tr>\n",
       "  </thead>\n",
       "  <tbody>\n",
       "    <tr>\n",
       "      <th>SE.PRM.ENRR</th>\n",
       "      <td>Europe &amp; Central Asia</td>\n",
       "      <td>ECS</td>\n",
       "      <td>Gross enrolment ratio, primary, both sexes (%)</td>\n",
       "      <td>101.776680</td>\n",
       "      <td>102.070580</td>\n",
       "      <td>102.493843</td>\n",
       "      <td>102.243736</td>\n",
       "      <td>102.445518</td>\n",
       "      <td>102.505760</td>\n",
       "      <td>102.303284</td>\n",
       "      <td>103.653641</td>\n",
       "      <td>103.273911</td>\n",
       "    </tr>\n",
       "    <tr>\n",
       "      <th>SE.PRM.ENRR.FE</th>\n",
       "      <td>Europe &amp; Central Asia</td>\n",
       "      <td>ECS</td>\n",
       "      <td>Gross enrolment ratio, primary, female (%)</td>\n",
       "      <td>101.177353</td>\n",
       "      <td>101.515411</td>\n",
       "      <td>101.955383</td>\n",
       "      <td>101.824371</td>\n",
       "      <td>102.098228</td>\n",
       "      <td>102.254509</td>\n",
       "      <td>102.063721</td>\n",
       "      <td>103.510368</td>\n",
       "      <td>103.158348</td>\n",
       "    </tr>\n",
       "    <tr>\n",
       "      <th>SE.SEC.ENRR</th>\n",
       "      <td>Europe &amp; Central Asia</td>\n",
       "      <td>ECS</td>\n",
       "      <td>Gross enrolment ratio, secondary, both sexes (%)</td>\n",
       "      <td>95.591217</td>\n",
       "      <td>96.165009</td>\n",
       "      <td>96.507027</td>\n",
       "      <td>96.048897</td>\n",
       "      <td>97.858063</td>\n",
       "      <td>98.529266</td>\n",
       "      <td>98.927292</td>\n",
       "      <td>105.351952</td>\n",
       "      <td>105.963516</td>\n",
       "    </tr>\n",
       "    <tr>\n",
       "      <th>SE.SEC.ENRR.FE</th>\n",
       "      <td>Europe &amp; Central Asia</td>\n",
       "      <td>ECS</td>\n",
       "      <td>Gross enrolment ratio, secondary, female (%)</td>\n",
       "      <td>94.537453</td>\n",
       "      <td>95.125450</td>\n",
       "      <td>95.560089</td>\n",
       "      <td>95.151413</td>\n",
       "      <td>96.802780</td>\n",
       "      <td>97.371590</td>\n",
       "      <td>97.900307</td>\n",
       "      <td>104.787560</td>\n",
       "      <td>105.389008</td>\n",
       "    </tr>\n",
       "    <tr>\n",
       "      <th>SE.TER.ENRR</th>\n",
       "      <td>Europe &amp; Central Asia</td>\n",
       "      <td>ECS</td>\n",
       "      <td>Gross enrolment ratio, tertiary, both sexes (%)</td>\n",
       "      <td>57.144230</td>\n",
       "      <td>58.055222</td>\n",
       "      <td>58.818878</td>\n",
       "      <td>59.936008</td>\n",
       "      <td>61.452751</td>\n",
       "      <td>62.561241</td>\n",
       "      <td>63.392509</td>\n",
       "      <td>64.475471</td>\n",
       "      <td>65.080727</td>\n",
       "    </tr>\n",
       "    <tr>\n",
       "      <th>SE.TER.ENRR.FE</th>\n",
       "      <td>Europe &amp; Central Asia</td>\n",
       "      <td>ECS</td>\n",
       "      <td>Gross enrolment ratio, tertiary, female (%)</td>\n",
       "      <td>63.088490</td>\n",
       "      <td>64.091179</td>\n",
       "      <td>65.020844</td>\n",
       "      <td>66.145912</td>\n",
       "      <td>67.588097</td>\n",
       "      <td>68.575493</td>\n",
       "      <td>68.807037</td>\n",
       "      <td>69.555511</td>\n",
       "      <td>69.871300</td>\n",
       "    </tr>\n",
       "  </tbody>\n",
       "</table>\n",
       "</div>"
      ],
      "text/plain": [
       "                         Country Name Country Code  \\\n",
       "Indicator Code                                       \n",
       "SE.PRM.ENRR     Europe & Central Asia          ECS   \n",
       "SE.PRM.ENRR.FE  Europe & Central Asia          ECS   \n",
       "SE.SEC.ENRR     Europe & Central Asia          ECS   \n",
       "SE.SEC.ENRR.FE  Europe & Central Asia          ECS   \n",
       "SE.TER.ENRR     Europe & Central Asia          ECS   \n",
       "SE.TER.ENRR.FE  Europe & Central Asia          ECS   \n",
       "\n",
       "                                                  Indicator Name        2006  \\\n",
       "Indicator Code                                                                 \n",
       "SE.PRM.ENRR       Gross enrolment ratio, primary, both sexes (%)  101.776680   \n",
       "SE.PRM.ENRR.FE        Gross enrolment ratio, primary, female (%)  101.177353   \n",
       "SE.SEC.ENRR     Gross enrolment ratio, secondary, both sexes (%)   95.591217   \n",
       "SE.SEC.ENRR.FE      Gross enrolment ratio, secondary, female (%)   94.537453   \n",
       "SE.TER.ENRR      Gross enrolment ratio, tertiary, both sexes (%)   57.144230   \n",
       "SE.TER.ENRR.FE       Gross enrolment ratio, tertiary, female (%)   63.088490   \n",
       "\n",
       "                      2007        2008        2009        2010        2011  \\\n",
       "Indicator Code                                                               \n",
       "SE.PRM.ENRR     102.070580  102.493843  102.243736  102.445518  102.505760   \n",
       "SE.PRM.ENRR.FE  101.515411  101.955383  101.824371  102.098228  102.254509   \n",
       "SE.SEC.ENRR      96.165009   96.507027   96.048897   97.858063   98.529266   \n",
       "SE.SEC.ENRR.FE   95.125450   95.560089   95.151413   96.802780   97.371590   \n",
       "SE.TER.ENRR      58.055222   58.818878   59.936008   61.452751   62.561241   \n",
       "SE.TER.ENRR.FE   64.091179   65.020844   66.145912   67.588097   68.575493   \n",
       "\n",
       "                      2012        2013        2014  \n",
       "Indicator Code                                      \n",
       "SE.PRM.ENRR     102.303284  103.653641  103.273911  \n",
       "SE.PRM.ENRR.FE  102.063721  103.510368  103.158348  \n",
       "SE.SEC.ENRR      98.927292  105.351952  105.963516  \n",
       "SE.SEC.ENRR.FE   97.900307  104.787560  105.389008  \n",
       "SE.TER.ENRR      63.392509   64.475471   65.080727  \n",
       "SE.TER.ENRR.FE   68.807037   69.555511   69.871300  "
      ]
     },
     "execution_count": 846,
     "metadata": {},
     "output_type": "execute_result"
    }
   ],
   "source": [
    "ecsGrossEnrolmentRate"
   ]
  },
  {
   "cell_type": "code",
   "execution_count": 847,
   "metadata": {},
   "outputs": [],
   "source": [
    "#Factors"
   ]
  },
  {
   "cell_type": "code",
   "execution_count": 851,
   "metadata": {},
   "outputs": [
    {
     "data": {
      "text/html": [
       "<div>\n",
       "<style scoped>\n",
       "    .dataframe tbody tr th:only-of-type {\n",
       "        vertical-align: middle;\n",
       "    }\n",
       "\n",
       "    .dataframe tbody tr th {\n",
       "        vertical-align: top;\n",
       "    }\n",
       "\n",
       "    .dataframe thead th {\n",
       "        text-align: right;\n",
       "    }\n",
       "</style>\n",
       "<table border=\"1\" class=\"dataframe\">\n",
       "  <thead>\n",
       "    <tr style=\"text-align: right;\">\n",
       "      <th></th>\n",
       "      <th>Country Name</th>\n",
       "      <th>Country Code</th>\n",
       "      <th>Indicator Name</th>\n",
       "      <th>2006</th>\n",
       "      <th>2007</th>\n",
       "      <th>2008</th>\n",
       "      <th>2009</th>\n",
       "      <th>2010</th>\n",
       "      <th>2011</th>\n",
       "      <th>2012</th>\n",
       "      <th>2013</th>\n",
       "      <th>2014</th>\n",
       "    </tr>\n",
       "    <tr>\n",
       "      <th>Indicator Code</th>\n",
       "      <th></th>\n",
       "      <th></th>\n",
       "      <th></th>\n",
       "      <th></th>\n",
       "      <th></th>\n",
       "      <th></th>\n",
       "      <th></th>\n",
       "      <th></th>\n",
       "      <th></th>\n",
       "      <th></th>\n",
       "      <th></th>\n",
       "      <th></th>\n",
       "    </tr>\n",
       "  </thead>\n",
       "  <tbody>\n",
       "    <tr>\n",
       "      <th>UIS.LP.AG15T99</th>\n",
       "      <td>Europe &amp; Central Asia</td>\n",
       "      <td>ECS</td>\n",
       "      <td>Adult illiterate population, 15+ years, both s...</td>\n",
       "      <td>7.508956e+06</td>\n",
       "      <td>7.508956e+06</td>\n",
       "      <td>7.508956e+06</td>\n",
       "      <td>7.508956e+06</td>\n",
       "      <td>7.508956e+06</td>\n",
       "      <td>7.508956e+06</td>\n",
       "      <td>7.508956e+06</td>\n",
       "      <td>7.508956e+06</td>\n",
       "      <td>7.508956e+06</td>\n",
       "    </tr>\n",
       "    <tr>\n",
       "      <th>SE.ADT.LITR.ZS</th>\n",
       "      <td>Europe &amp; Central Asia</td>\n",
       "      <td>ECS</td>\n",
       "      <td>Adult literacy rate, population 15+ years, bot...</td>\n",
       "      <td>9.899759e+01</td>\n",
       "      <td>9.899759e+01</td>\n",
       "      <td>9.899759e+01</td>\n",
       "      <td>9.899759e+01</td>\n",
       "      <td>9.899759e+01</td>\n",
       "      <td>9.899759e+01</td>\n",
       "      <td>9.899759e+01</td>\n",
       "      <td>9.899759e+01</td>\n",
       "      <td>9.899759e+01</td>\n",
       "    </tr>\n",
       "    <tr>\n",
       "      <th>SE.SCH.LIFE</th>\n",
       "      <td>Europe &amp; Central Asia</td>\n",
       "      <td>ECS</td>\n",
       "      <td>School life expectancy, primary to tertiary, b...</td>\n",
       "      <td>1.454894e+01</td>\n",
       "      <td>1.463325e+01</td>\n",
       "      <td>1.469005e+01</td>\n",
       "      <td>1.476991e+01</td>\n",
       "      <td>1.501044e+01</td>\n",
       "      <td>1.515136e+01</td>\n",
       "      <td>1.522674e+01</td>\n",
       "      <td>1.579285e+01</td>\n",
       "      <td>1.584182e+01</td>\n",
       "    </tr>\n",
       "    <tr>\n",
       "      <th>SE.PRM.PRSL.ZS</th>\n",
       "      <td>Europe &amp; Central Asia</td>\n",
       "      <td>ECS</td>\n",
       "      <td>Survival rate to the last grade of primary edu...</td>\n",
       "      <td>9.639896e+01</td>\n",
       "      <td>9.572108e+01</td>\n",
       "      <td>9.562916e+01</td>\n",
       "      <td>9.671382e+01</td>\n",
       "      <td>9.611488e+01</td>\n",
       "      <td>9.545274e+01</td>\n",
       "      <td>9.536843e+01</td>\n",
       "      <td>9.533685e+01</td>\n",
       "      <td>NaN</td>\n",
       "    </tr>\n",
       "    <tr>\n",
       "      <th>SL.UEM.TOTL.ZS</th>\n",
       "      <td>Europe &amp; Central Asia</td>\n",
       "      <td>ECS</td>\n",
       "      <td>Unemployment, total (% of total labor force)</td>\n",
       "      <td>8.143964e+00</td>\n",
       "      <td>7.280767e+00</td>\n",
       "      <td>7.184113e+00</td>\n",
       "      <td>9.002448e+00</td>\n",
       "      <td>9.088711e+00</td>\n",
       "      <td>8.850472e+00</td>\n",
       "      <td>9.073000e+00</td>\n",
       "      <td>9.291556e+00</td>\n",
       "      <td>9.014396e+00</td>\n",
       "    </tr>\n",
       "  </tbody>\n",
       "</table>\n",
       "</div>"
      ],
      "text/plain": [
       "                         Country Name Country Code  \\\n",
       "Indicator Code                                       \n",
       "UIS.LP.AG15T99  Europe & Central Asia          ECS   \n",
       "SE.ADT.LITR.ZS  Europe & Central Asia          ECS   \n",
       "SE.SCH.LIFE     Europe & Central Asia          ECS   \n",
       "SE.PRM.PRSL.ZS  Europe & Central Asia          ECS   \n",
       "SL.UEM.TOTL.ZS  Europe & Central Asia          ECS   \n",
       "\n",
       "                                                   Indicator Name  \\\n",
       "Indicator Code                                                      \n",
       "UIS.LP.AG15T99  Adult illiterate population, 15+ years, both s...   \n",
       "SE.ADT.LITR.ZS  Adult literacy rate, population 15+ years, bot...   \n",
       "SE.SCH.LIFE     School life expectancy, primary to tertiary, b...   \n",
       "SE.PRM.PRSL.ZS  Survival rate to the last grade of primary edu...   \n",
       "SL.UEM.TOTL.ZS       Unemployment, total (% of total labor force)   \n",
       "\n",
       "                        2006          2007          2008          2009  \\\n",
       "Indicator Code                                                           \n",
       "UIS.LP.AG15T99  7.508956e+06  7.508956e+06  7.508956e+06  7.508956e+06   \n",
       "SE.ADT.LITR.ZS  9.899759e+01  9.899759e+01  9.899759e+01  9.899759e+01   \n",
       "SE.SCH.LIFE     1.454894e+01  1.463325e+01  1.469005e+01  1.476991e+01   \n",
       "SE.PRM.PRSL.ZS  9.639896e+01  9.572108e+01  9.562916e+01  9.671382e+01   \n",
       "SL.UEM.TOTL.ZS  8.143964e+00  7.280767e+00  7.184113e+00  9.002448e+00   \n",
       "\n",
       "                        2010          2011          2012          2013  \\\n",
       "Indicator Code                                                           \n",
       "UIS.LP.AG15T99  7.508956e+06  7.508956e+06  7.508956e+06  7.508956e+06   \n",
       "SE.ADT.LITR.ZS  9.899759e+01  9.899759e+01  9.899759e+01  9.899759e+01   \n",
       "SE.SCH.LIFE     1.501044e+01  1.515136e+01  1.522674e+01  1.579285e+01   \n",
       "SE.PRM.PRSL.ZS  9.611488e+01  9.545274e+01  9.536843e+01  9.533685e+01   \n",
       "SL.UEM.TOTL.ZS  9.088711e+00  8.850472e+00  9.073000e+00  9.291556e+00   \n",
       "\n",
       "                        2014  \n",
       "Indicator Code                \n",
       "UIS.LP.AG15T99  7.508956e+06  \n",
       "SE.ADT.LITR.ZS  9.899759e+01  \n",
       "SE.SCH.LIFE     1.584182e+01  \n",
       "SE.PRM.PRSL.ZS           NaN  \n",
       "SL.UEM.TOTL.ZS  9.014396e+00  "
      ]
     },
     "execution_count": 851,
     "metadata": {},
     "output_type": "execute_result"
    }
   ],
   "source": [
    "dataECS[dataECS.index.isin(['SL.UEM.TOTL.ZS','SE.PRM.PRSL.ZS','SE.ADT.LITR.ZS','UIS.LP.AG15T99','SE.SCH.LIFE'])]"
   ]
  },
  {
   "cell_type": "code",
   "execution_count": null,
   "metadata": {},
   "outputs": [],
   "source": []
  }
 ],
 "metadata": {
  "kernelspec": {
   "display_name": "Python 3",
   "language": "python",
   "name": "python3"
  },
  "language_info": {
   "codemirror_mode": {
    "name": "ipython",
    "version": 3
   },
   "file_extension": ".py",
   "mimetype": "text/x-python",
   "name": "python",
   "nbconvert_exporter": "python",
   "pygments_lexer": "ipython3",
   "version": "3.7.9"
  }
 },
 "nbformat": 4,
 "nbformat_minor": 4
}
